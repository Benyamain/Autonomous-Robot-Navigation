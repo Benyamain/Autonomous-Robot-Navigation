{
 "cells": [
  {
   "cell_type": "code",
   "execution_count": 1,
   "id": "cc69ab0e-b3c5-49ea-a7f0-69470b952b0c",
   "metadata": {},
   "outputs": [
    {
     "name": "stderr",
     "output_type": "stream",
     "text": [
      "C:\\Users\\zhangxi24\\AppData\\Local\\anaconda3\\envs\\yolo\\lib\\site-packages\\torchvision\\models\\_utils.py:135: UserWarning: Using 'backbone_name' as positional parameter(s) is deprecated since 0.13 and may be removed in the future. Please use keyword parameter(s) instead.\n",
      "  warnings.warn(\n",
      "C:\\Users\\zhangxi24\\AppData\\Local\\anaconda3\\envs\\yolo\\lib\\site-packages\\torchvision\\models\\_utils.py:208: UserWarning: The parameter 'pretrained' is deprecated since 0.13 and may be removed in the future, please use 'weights' instead.\n",
      "  warnings.warn(\n",
      "C:\\Users\\zhangxi24\\AppData\\Local\\anaconda3\\envs\\yolo\\lib\\site-packages\\torchvision\\models\\_utils.py:223: UserWarning: Arguments other than a weight enum or `None` for 'weights' are deprecated since 0.13 and may be removed in the future. The current behavior is equivalent to passing `weights=ResNet101_Weights.IMAGENET1K_V1`. You can also use `weights=ResNet101_Weights.DEFAULT` to get the most up-to-date weights.\n",
      "  warnings.warn(msg)\n",
      "C:\\Users\\zhangxi24\\AppData\\Local\\anaconda3\\envs\\yolo\\lib\\site-packages\\torch\\optim\\lr_scheduler.py:62: UserWarning: The verbose parameter is deprecated. Please use get_last_lr() to access the learning rate.\n",
      "  warnings.warn(\n"
     ]
    },
    {
     "name": "stdout",
     "output_type": "stream",
     "text": [
      "📉 Loaded previous best loss: 0.0612\n"
     ]
    },
    {
     "name": "stderr",
     "output_type": "stream",
     "text": [
      "📦 Epoch 1/50: 100%|██████████████████████████████████████████████████| 2016/2016 [15:24<00:00,  2.18it/s, Loss=0.3319]\n"
     ]
    },
    {
     "name": "stdout",
     "output_type": "stream",
     "text": [
      "\n",
      "📊 Epoch 1: Avg Loss=0.7017 | 🎯 Precision=0.6342 | 🔁 Recall=0.9285 | ✅ Accuracy=0.9990\n",
      "\n"
     ]
    },
    {
     "name": "stderr",
     "output_type": "stream",
     "text": [
      "📦 Epoch 2/50: 100%|██████████████████████████████████████████████████| 2016/2016 [14:20<00:00,  2.34it/s, Loss=0.6298]\n"
     ]
    },
    {
     "name": "stdout",
     "output_type": "stream",
     "text": [
      "\n",
      "📊 Epoch 2: Avg Loss=0.4676 | 🎯 Precision=0.6965 | 🔁 Recall=0.9445 | ✅ Accuracy=0.9985\n",
      "\n"
     ]
    },
    {
     "name": "stderr",
     "output_type": "stream",
     "text": [
      "📦 Epoch 3/50: 100%|██████████████████████████████████████████████████| 2016/2016 [14:21<00:00,  2.34it/s, Loss=0.3711]\n"
     ]
    },
    {
     "name": "stdout",
     "output_type": "stream",
     "text": [
      "\n",
      "📊 Epoch 3: Avg Loss=0.3923 | 🎯 Precision=0.7495 | 🔁 Recall=0.9437 | ✅ Accuracy=0.9995\n",
      "\n"
     ]
    },
    {
     "name": "stderr",
     "output_type": "stream",
     "text": [
      "📦 Epoch 4/50: 100%|██████████████████████████████████████████████████| 2016/2016 [14:21<00:00,  2.34it/s, Loss=0.3484]\n"
     ]
    },
    {
     "name": "stdout",
     "output_type": "stream",
     "text": [
      "\n",
      "📊 Epoch 4: Avg Loss=0.3519 | 🎯 Precision=0.7718 | 🔁 Recall=0.9424 | ✅ Accuracy=0.9985\n",
      "\n"
     ]
    },
    {
     "name": "stderr",
     "output_type": "stream",
     "text": [
      "📦 Epoch 5/50: 100%|██████████████████████████████████████████████████| 2016/2016 [14:22<00:00,  2.34it/s, Loss=0.3926]\n"
     ]
    },
    {
     "name": "stdout",
     "output_type": "stream",
     "text": [
      "\n",
      "📊 Epoch 5: Avg Loss=0.3252 | 🎯 Precision=0.7603 | 🔁 Recall=0.9513 | ✅ Accuracy=0.9990\n",
      "\n"
     ]
    },
    {
     "name": "stderr",
     "output_type": "stream",
     "text": [
      "📦 Epoch 6/50: 100%|██████████████████████████████████████████████████| 2016/2016 [14:19<00:00,  2.35it/s, Loss=0.0735]\n"
     ]
    },
    {
     "name": "stdout",
     "output_type": "stream",
     "text": [
      "\n",
      "📊 Epoch 6: Avg Loss=0.3023 | 🎯 Precision=0.7922 | 🔁 Recall=0.9482 | ✅ Accuracy=0.9995\n",
      "\n"
     ]
    },
    {
     "name": "stderr",
     "output_type": "stream",
     "text": [
      "📦 Epoch 7/50: 100%|██████████████████████████████████████████████████| 2016/2016 [14:20<00:00,  2.34it/s, Loss=0.2005]\n"
     ]
    },
    {
     "name": "stdout",
     "output_type": "stream",
     "text": [
      "\n",
      "📊 Epoch 7: Avg Loss=0.2852 | 🎯 Precision=0.7980 | 🔁 Recall=0.9459 | ✅ Accuracy=0.9990\n",
      "\n"
     ]
    },
    {
     "name": "stderr",
     "output_type": "stream",
     "text": [
      "📦 Epoch 8/50: 100%|██████████████████████████████████████████████████| 2016/2016 [14:20<00:00,  2.34it/s, Loss=0.4851]\n"
     ]
    },
    {
     "name": "stdout",
     "output_type": "stream",
     "text": [
      "\n",
      "📊 Epoch 8: Avg Loss=0.2712 | 🎯 Precision=0.7730 | 🔁 Recall=0.9549 | ✅ Accuracy=0.9990\n",
      "\n"
     ]
    },
    {
     "name": "stderr",
     "output_type": "stream",
     "text": [
      "📦 Epoch 9/50: 100%|██████████████████████████████████████████████████| 2016/2016 [14:20<00:00,  2.34it/s, Loss=0.2162]\n"
     ]
    },
    {
     "name": "stdout",
     "output_type": "stream",
     "text": [
      "\n",
      "📊 Epoch 9: Avg Loss=0.2596 | 🎯 Precision=0.7894 | 🔁 Recall=0.9529 | ✅ Accuracy=0.9995\n",
      "\n"
     ]
    },
    {
     "name": "stderr",
     "output_type": "stream",
     "text": [
      "📦 Epoch 10/50: 100%|█████████████████████████████████████████████████| 2016/2016 [14:20<00:00,  2.34it/s, Loss=0.1844]\n"
     ]
    },
    {
     "name": "stdout",
     "output_type": "stream",
     "text": [
      "\n",
      "📊 Epoch 10: Avg Loss=0.2491 | 🎯 Precision=0.7870 | 🔁 Recall=0.9546 | ✅ Accuracy=0.9990\n",
      "\n"
     ]
    },
    {
     "name": "stderr",
     "output_type": "stream",
     "text": [
      "📦 Epoch 11/50: 100%|█████████████████████████████████████████████████| 2016/2016 [14:20<00:00,  2.34it/s, Loss=0.0574]\n"
     ]
    },
    {
     "name": "stdout",
     "output_type": "stream",
     "text": [
      "\n",
      "📊 Epoch 11: Avg Loss=0.2418 | 🎯 Precision=0.8017 | 🔁 Recall=0.9531 | ✅ Accuracy=0.9990\n",
      "\n"
     ]
    },
    {
     "name": "stderr",
     "output_type": "stream",
     "text": [
      "📦 Epoch 12/50: 100%|█████████████████████████████████████████████████| 2016/2016 [14:20<00:00,  2.34it/s, Loss=0.1431]\n"
     ]
    },
    {
     "name": "stdout",
     "output_type": "stream",
     "text": [
      "\n",
      "📊 Epoch 12: Avg Loss=0.2337 | 🎯 Precision=0.7974 | 🔁 Recall=0.9544 | ✅ Accuracy=0.9995\n",
      "\n"
     ]
    },
    {
     "name": "stderr",
     "output_type": "stream",
     "text": [
      "📦 Epoch 13/50: 100%|█████████████████████████████████████████████████| 2016/2016 [14:19<00:00,  2.34it/s, Loss=0.3255]\n"
     ]
    },
    {
     "name": "stdout",
     "output_type": "stream",
     "text": [
      "\n",
      "📊 Epoch 13: Avg Loss=0.2274 | 🎯 Precision=0.8105 | 🔁 Recall=0.9537 | ✅ Accuracy=0.9990\n",
      "\n"
     ]
    },
    {
     "name": "stderr",
     "output_type": "stream",
     "text": [
      "📦 Epoch 14/50: 100%|█████████████████████████████████████████████████| 2016/2016 [14:19<00:00,  2.34it/s, Loss=0.2607]\n"
     ]
    },
    {
     "name": "stdout",
     "output_type": "stream",
     "text": [
      "\n",
      "📊 Epoch 14: Avg Loss=0.2202 | 🎯 Precision=0.8171 | 🔁 Recall=0.9517 | ✅ Accuracy=0.9990\n",
      "\n"
     ]
    },
    {
     "name": "stderr",
     "output_type": "stream",
     "text": [
      "📦 Epoch 15/50: 100%|█████████████████████████████████████████████████| 2016/2016 [15:09<00:00,  2.22it/s, Loss=0.2466]\n"
     ]
    },
    {
     "name": "stdout",
     "output_type": "stream",
     "text": [
      "\n",
      "📊 Epoch 15: Avg Loss=0.2146 | 🎯 Precision=0.8074 | 🔁 Recall=0.9548 | ✅ Accuracy=0.9995\n",
      "\n"
     ]
    },
    {
     "name": "stderr",
     "output_type": "stream",
     "text": [
      "📦 Epoch 16/50: 100%|█████████████████████████████████████████████████| 2016/2016 [14:17<00:00,  2.35it/s, Loss=0.2530]\n"
     ]
    },
    {
     "name": "stdout",
     "output_type": "stream",
     "text": [
      "\n",
      "📊 Epoch 16: Avg Loss=0.2105 | 🎯 Precision=0.8387 | 🔁 Recall=0.9449 | ✅ Accuracy=0.9995\n",
      "\n"
     ]
    },
    {
     "name": "stderr",
     "output_type": "stream",
     "text": [
      "📦 Epoch 17/50: 100%|█████████████████████████████████████████████████| 2016/2016 [14:18<00:00,  2.35it/s, Loss=0.1842]\n"
     ]
    },
    {
     "name": "stdout",
     "output_type": "stream",
     "text": [
      "\n",
      "📊 Epoch 17: Avg Loss=0.2053 | 🎯 Precision=0.8153 | 🔁 Recall=0.9449 | ✅ Accuracy=0.9990\n",
      "\n"
     ]
    },
    {
     "name": "stderr",
     "output_type": "stream",
     "text": [
      "📦 Epoch 18/50: 100%|█████████████████████████████████████████████████| 2016/2016 [14:20<00:00,  2.34it/s, Loss=0.1749]\n"
     ]
    },
    {
     "name": "stdout",
     "output_type": "stream",
     "text": [
      "\n",
      "📊 Epoch 18: Avg Loss=0.2009 | 🎯 Precision=0.7919 | 🔁 Recall=0.9549 | ✅ Accuracy=0.9995\n",
      "\n"
     ]
    },
    {
     "name": "stderr",
     "output_type": "stream",
     "text": [
      "📦 Epoch 19/50: 100%|█████████████████████████████████████████████████| 2016/2016 [14:16<00:00,  2.35it/s, Loss=0.0441]\n"
     ]
    },
    {
     "name": "stdout",
     "output_type": "stream",
     "text": [
      "\n",
      "📊 Epoch 19: Avg Loss=0.1965 | 🎯 Precision=0.8207 | 🔁 Recall=0.9544 | ✅ Accuracy=0.9990\n",
      "\n"
     ]
    },
    {
     "name": "stderr",
     "output_type": "stream",
     "text": [
      "📦 Epoch 20/50: 100%|█████████████████████████████████████████████████| 2016/2016 [14:16<00:00,  2.35it/s, Loss=0.2010]\n"
     ]
    },
    {
     "name": "stdout",
     "output_type": "stream",
     "text": [
      "\n",
      "📊 Epoch 20: Avg Loss=0.1929 | 🎯 Precision=0.8158 | 🔁 Recall=0.9506 | ✅ Accuracy=0.9995\n",
      "\n"
     ]
    },
    {
     "name": "stderr",
     "output_type": "stream",
     "text": [
      "📦 Epoch 21/50: 100%|█████████████████████████████████████████████████| 2016/2016 [14:16<00:00,  2.35it/s, Loss=0.1933]\n"
     ]
    },
    {
     "name": "stdout",
     "output_type": "stream",
     "text": [
      "\n",
      "📊 Epoch 21: Avg Loss=0.1891 | 🎯 Precision=0.8116 | 🔁 Recall=0.9537 | ✅ Accuracy=0.9990\n",
      "\n"
     ]
    },
    {
     "name": "stderr",
     "output_type": "stream",
     "text": [
      "📦 Epoch 22/50: 100%|█████████████████████████████████████████████████| 2016/2016 [14:16<00:00,  2.35it/s, Loss=0.1420]\n"
     ]
    },
    {
     "name": "stdout",
     "output_type": "stream",
     "text": [
      "\n",
      "📊 Epoch 22: Avg Loss=0.1848 | 🎯 Precision=0.8528 | 🔁 Recall=0.9424 | ✅ Accuracy=0.9995\n",
      "\n"
     ]
    },
    {
     "name": "stderr",
     "output_type": "stream",
     "text": [
      "📦 Epoch 23/50: 100%|█████████████████████████████████████████████████| 2016/2016 [14:17<00:00,  2.35it/s, Loss=0.1284]\n"
     ]
    },
    {
     "name": "stdout",
     "output_type": "stream",
     "text": [
      "\n",
      "📊 Epoch 23: Avg Loss=0.1833 | 🎯 Precision=0.8346 | 🔁 Recall=0.9498 | ✅ Accuracy=0.9990\n",
      "\n"
     ]
    },
    {
     "name": "stderr",
     "output_type": "stream",
     "text": [
      "📦 Epoch 24/50: 100%|█████████████████████████████████████████████████| 2016/2016 [14:19<00:00,  2.35it/s, Loss=0.3552]\n"
     ]
    },
    {
     "name": "stdout",
     "output_type": "stream",
     "text": [
      "\n",
      "📊 Epoch 24: Avg Loss=0.1812 | 🎯 Precision=0.8212 | 🔁 Recall=0.9521 | ✅ Accuracy=0.9995\n",
      "\n"
     ]
    },
    {
     "name": "stderr",
     "output_type": "stream",
     "text": [
      "📦 Epoch 25/50: 100%|█████████████████████████████████████████████████| 2016/2016 [14:18<00:00,  2.35it/s, Loss=0.1639]\n"
     ]
    },
    {
     "name": "stdout",
     "output_type": "stream",
     "text": [
      "\n",
      "📊 Epoch 25: Avg Loss=0.1794 | 🎯 Precision=0.8387 | 🔁 Recall=0.9455 | ✅ Accuracy=0.9990\n",
      "\n"
     ]
    },
    {
     "name": "stderr",
     "output_type": "stream",
     "text": [
      "📦 Epoch 26/50: 100%|█████████████████████████████████████████████████| 2016/2016 [14:19<00:00,  2.35it/s, Loss=0.0640]\n"
     ]
    },
    {
     "name": "stdout",
     "output_type": "stream",
     "text": [
      "\n",
      "📊 Epoch 26: Avg Loss=0.1762 | 🎯 Precision=0.8347 | 🔁 Recall=0.9456 | ✅ Accuracy=0.9985\n",
      "\n"
     ]
    },
    {
     "name": "stderr",
     "output_type": "stream",
     "text": [
      "📦 Epoch 27/50: 100%|█████████████████████████████████████████████████| 2016/2016 [14:19<00:00,  2.35it/s, Loss=0.0429]\n"
     ]
    },
    {
     "name": "stdout",
     "output_type": "stream",
     "text": [
      "\n",
      "📊 Epoch 27: Avg Loss=0.1732 | 🎯 Precision=0.8350 | 🔁 Recall=0.9492 | ✅ Accuracy=0.9990\n",
      "\n"
     ]
    },
    {
     "name": "stderr",
     "output_type": "stream",
     "text": [
      "📦 Epoch 28/50: 100%|█████████████████████████████████████████████████| 2016/2016 [14:18<00:00,  2.35it/s, Loss=0.2137]\n"
     ]
    },
    {
     "name": "stdout",
     "output_type": "stream",
     "text": [
      "\n",
      "📊 Epoch 28: Avg Loss=0.1711 | 🎯 Precision=0.8280 | 🔁 Recall=0.9520 | ✅ Accuracy=0.9995\n",
      "\n"
     ]
    },
    {
     "name": "stderr",
     "output_type": "stream",
     "text": [
      "📦 Epoch 29/50: 100%|█████████████████████████████████████████████████| 2016/2016 [14:18<00:00,  2.35it/s, Loss=0.2805]\n"
     ]
    },
    {
     "name": "stdout",
     "output_type": "stream",
     "text": [
      "\n",
      "📊 Epoch 29: Avg Loss=0.1700 | 🎯 Precision=0.8481 | 🔁 Recall=0.9480 | ✅ Accuracy=0.9990\n",
      "\n"
     ]
    },
    {
     "name": "stderr",
     "output_type": "stream",
     "text": [
      "📦 Epoch 30/50: 100%|█████████████████████████████████████████████████| 2016/2016 [14:18<00:00,  2.35it/s, Loss=0.0442]\n"
     ]
    },
    {
     "name": "stdout",
     "output_type": "stream",
     "text": [
      "\n",
      "📊 Epoch 30: Avg Loss=0.1670 | 🎯 Precision=0.8288 | 🔁 Recall=0.9386 | ✅ Accuracy=0.9995\n",
      "\n"
     ]
    },
    {
     "name": "stderr",
     "output_type": "stream",
     "text": [
      "📦 Epoch 31/50: 100%|█████████████████████████████████████████████████| 2016/2016 [14:18<00:00,  2.35it/s, Loss=0.0255]\n"
     ]
    },
    {
     "name": "stdout",
     "output_type": "stream",
     "text": [
      "\n",
      "📊 Epoch 31: Avg Loss=0.1659 | 🎯 Precision=0.8270 | 🔁 Recall=0.9531 | ✅ Accuracy=0.9995\n",
      "\n"
     ]
    },
    {
     "name": "stderr",
     "output_type": "stream",
     "text": [
      "📦 Epoch 32/50: 100%|█████████████████████████████████████████████████| 2016/2016 [14:18<00:00,  2.35it/s, Loss=0.2256]\n"
     ]
    },
    {
     "name": "stdout",
     "output_type": "stream",
     "text": [
      "\n",
      "📊 Epoch 32: Avg Loss=0.1652 | 🎯 Precision=0.8458 | 🔁 Recall=0.9452 | ✅ Accuracy=0.9985\n",
      "\n"
     ]
    },
    {
     "name": "stderr",
     "output_type": "stream",
     "text": [
      "📦 Epoch 33/50: 100%|█████████████████████████████████████████████████| 2016/2016 [14:16<00:00,  2.35it/s, Loss=0.0454]\n"
     ]
    },
    {
     "name": "stdout",
     "output_type": "stream",
     "text": [
      "\n",
      "📊 Epoch 33: Avg Loss=0.1611 | 🎯 Precision=0.8235 | 🔁 Recall=0.9537 | ✅ Accuracy=0.9990\n",
      "\n"
     ]
    },
    {
     "name": "stderr",
     "output_type": "stream",
     "text": [
      "📦 Epoch 34/50: 100%|█████████████████████████████████████████████████| 2016/2016 [14:18<00:00,  2.35it/s, Loss=0.2262]\n"
     ]
    },
    {
     "name": "stdout",
     "output_type": "stream",
     "text": [
      "\n",
      "📊 Epoch 34: Avg Loss=0.1600 | 🎯 Precision=0.8284 | 🔁 Recall=0.9535 | ✅ Accuracy=0.9990\n",
      "\n"
     ]
    },
    {
     "name": "stderr",
     "output_type": "stream",
     "text": [
      "📦 Epoch 35/50: 100%|█████████████████████████████████████████████████| 2016/2016 [14:18<00:00,  2.35it/s, Loss=0.1229]\n"
     ]
    },
    {
     "name": "stdout",
     "output_type": "stream",
     "text": [
      "\n",
      "📊 Epoch 35: Avg Loss=0.1578 | 🎯 Precision=0.8397 | 🔁 Recall=0.9491 | ✅ Accuracy=0.9990\n",
      "\n"
     ]
    },
    {
     "name": "stderr",
     "output_type": "stream",
     "text": [
      "📦 Epoch 36/50: 100%|█████████████████████████████████████████████████| 2016/2016 [14:20<00:00,  2.34it/s, Loss=0.0600]\n"
     ]
    },
    {
     "name": "stdout",
     "output_type": "stream",
     "text": [
      "\n",
      "📊 Epoch 36: Avg Loss=0.1573 | 🎯 Precision=0.8356 | 🔁 Recall=0.9514 | ✅ Accuracy=0.9985\n",
      "\n"
     ]
    },
    {
     "name": "stderr",
     "output_type": "stream",
     "text": [
      "📦 Epoch 37/50: 100%|█████████████████████████████████████████████████| 2016/2016 [14:15<00:00,  2.36it/s, Loss=0.1317]\n"
     ]
    },
    {
     "name": "stdout",
     "output_type": "stream",
     "text": [
      "\n",
      "📊 Epoch 37: Avg Loss=0.1550 | 🎯 Precision=0.8506 | 🔁 Recall=0.9450 | ✅ Accuracy=0.9985\n",
      "\n"
     ]
    },
    {
     "name": "stderr",
     "output_type": "stream",
     "text": [
      "📦 Epoch 38/50: 100%|█████████████████████████████████████████████████| 2016/2016 [14:13<00:00,  2.36it/s, Loss=0.1603]\n"
     ]
    },
    {
     "name": "stdout",
     "output_type": "stream",
     "text": [
      "\n",
      "📊 Epoch 38: Avg Loss=0.1543 | 🎯 Precision=0.8379 | 🔁 Recall=0.9502 | ✅ Accuracy=0.9990\n",
      "\n"
     ]
    },
    {
     "name": "stderr",
     "output_type": "stream",
     "text": [
      "📦 Epoch 39/50: 100%|█████████████████████████████████████████████████| 2016/2016 [14:14<00:00,  2.36it/s, Loss=0.0703]\n"
     ]
    },
    {
     "name": "stdout",
     "output_type": "stream",
     "text": [
      "\n",
      "📊 Epoch 39: Avg Loss=0.1548 | 🎯 Precision=0.8228 | 🔁 Recall=0.9518 | ✅ Accuracy=0.9990\n",
      "\n"
     ]
    },
    {
     "name": "stderr",
     "output_type": "stream",
     "text": [
      "📦 Epoch 40/50: 100%|█████████████████████████████████████████████████| 2016/2016 [14:13<00:00,  2.36it/s, Loss=0.1993]\n"
     ]
    },
    {
     "name": "stdout",
     "output_type": "stream",
     "text": [
      "\n",
      "📊 Epoch 40: Avg Loss=0.1526 | 🎯 Precision=0.8401 | 🔁 Recall=0.9503 | ✅ Accuracy=0.9990\n",
      "\n"
     ]
    },
    {
     "name": "stderr",
     "output_type": "stream",
     "text": [
      "📦 Epoch 41/50: 100%|█████████████████████████████████████████████████| 2016/2016 [14:13<00:00,  2.36it/s, Loss=0.1112]\n"
     ]
    },
    {
     "name": "stdout",
     "output_type": "stream",
     "text": [
      "\n",
      "📊 Epoch 41: Avg Loss=0.1519 | 🎯 Precision=0.8392 | 🔁 Recall=0.9493 | ✅ Accuracy=0.9990\n",
      "\n"
     ]
    },
    {
     "name": "stderr",
     "output_type": "stream",
     "text": [
      "📦 Epoch 42/50: 100%|█████████████████████████████████████████████████| 2016/2016 [14:14<00:00,  2.36it/s, Loss=0.0120]\n"
     ]
    },
    {
     "name": "stdout",
     "output_type": "stream",
     "text": [
      "\n",
      "📊 Epoch 42: Avg Loss=0.1512 | 🎯 Precision=0.8318 | 🔁 Recall=0.9497 | ✅ Accuracy=0.9985\n",
      "\n"
     ]
    },
    {
     "name": "stderr",
     "output_type": "stream",
     "text": [
      "📦 Epoch 43/50: 100%|█████████████████████████████████████████████████| 2016/2016 [14:27<00:00,  2.32it/s, Loss=0.3221]\n"
     ]
    },
    {
     "name": "stdout",
     "output_type": "stream",
     "text": [
      "\n",
      "📊 Epoch 43: Avg Loss=0.1494 | 🎯 Precision=0.8414 | 🔁 Recall=0.9489 | ✅ Accuracy=0.9995\n",
      "\n"
     ]
    },
    {
     "name": "stderr",
     "output_type": "stream",
     "text": [
      "📦 Epoch 44/50: 100%|█████████████████████████████████████████████████| 2016/2016 [14:28<00:00,  2.32it/s, Loss=0.0401]\n"
     ]
    },
    {
     "name": "stdout",
     "output_type": "stream",
     "text": [
      "\n",
      "📊 Epoch 44: Avg Loss=0.1485 | 🎯 Precision=0.8560 | 🔁 Recall=0.9433 | ✅ Accuracy=0.9985\n",
      "\n"
     ]
    },
    {
     "name": "stderr",
     "output_type": "stream",
     "text": [
      "📦 Epoch 45/50: 100%|█████████████████████████████████████████████████| 2016/2016 [14:33<00:00,  2.31it/s, Loss=0.1146]\n"
     ]
    },
    {
     "name": "stdout",
     "output_type": "stream",
     "text": [
      "\n",
      "📊 Epoch 45: Avg Loss=0.1474 | 🎯 Precision=0.8613 | 🔁 Recall=0.9445 | ✅ Accuracy=0.9995\n",
      "\n"
     ]
    },
    {
     "name": "stderr",
     "output_type": "stream",
     "text": [
      "📦 Epoch 46/50: 100%|█████████████████████████████████████████████████| 2016/2016 [14:30<00:00,  2.32it/s, Loss=0.3115]\n"
     ]
    },
    {
     "name": "stdout",
     "output_type": "stream",
     "text": [
      "\n",
      "📊 Epoch 46: Avg Loss=0.1465 | 🎯 Precision=0.8634 | 🔁 Recall=0.9436 | ✅ Accuracy=0.9995\n",
      "\n"
     ]
    },
    {
     "name": "stderr",
     "output_type": "stream",
     "text": [
      "📦 Epoch 47/50: 100%|█████████████████████████████████████████████████| 2016/2016 [14:12<00:00,  2.36it/s, Loss=0.2053]\n"
     ]
    },
    {
     "name": "stdout",
     "output_type": "stream",
     "text": [
      "\n",
      "📊 Epoch 47: Avg Loss=0.1466 | 🎯 Precision=0.8503 | 🔁 Recall=0.9420 | ✅ Accuracy=0.9985\n",
      "\n"
     ]
    },
    {
     "name": "stderr",
     "output_type": "stream",
     "text": [
      "📦 Epoch 48/50: 100%|█████████████████████████████████████████████████| 2016/2016 [14:14<00:00,  2.36it/s, Loss=0.1497]\n"
     ]
    },
    {
     "name": "stdout",
     "output_type": "stream",
     "text": [
      "\n",
      "📊 Epoch 48: Avg Loss=0.1461 | 🎯 Precision=0.8698 | 🔁 Recall=0.9350 | ✅ Accuracy=0.9990\n",
      "\n"
     ]
    },
    {
     "name": "stderr",
     "output_type": "stream",
     "text": [
      "📦 Epoch 49/50: 100%|█████████████████████████████████████████████████| 2016/2016 [14:16<00:00,  2.35it/s, Loss=0.1240]\n"
     ]
    },
    {
     "name": "stdout",
     "output_type": "stream",
     "text": [
      "\n",
      "📊 Epoch 49: Avg Loss=0.1453 | 🎯 Precision=0.8454 | 🔁 Recall=0.9475 | ✅ Accuracy=0.9990\n",
      "\n"
     ]
    },
    {
     "name": "stderr",
     "output_type": "stream",
     "text": [
      "📦 Epoch 50/50: 100%|█████████████████████████████████████████████████| 2016/2016 [14:14<00:00,  2.36it/s, Loss=0.0911]\n"
     ]
    },
    {
     "name": "stdout",
     "output_type": "stream",
     "text": [
      "\n",
      "📊 Epoch 50: Avg Loss=0.1442 | 🎯 Precision=0.8689 | 🔁 Recall=0.9369 | ✅ Accuracy=0.9995\n",
      "\n"
     ]
    },
    {
     "data": {
      "image/png": "[encoded data removed]",
      "text/plain": [
       "<Figure size 1200x400 with 3 Axes>"
      ]
     },
     "metadata": {},
     "output_type": "display_data"
    }
   ],
   "source": [
    "import os\n",
    "import torch\n",
    "from torch.utils.data import Dataset, DataLoader\n",
    "from PIL import Image\n",
    "import torchvision.transforms.functional as F\n",
    "import torchvision.transforms as T\n",
    "import torchvision\n",
    "from torchvision.models.detection import FasterRCNN\n",
    "from torchvision.models.detection.backbone_utils import resnet_fpn_backbone\n",
    "from torchvision.models.detection.faster_rcnn import FastRCNNPredictor\n",
    "from torch.optim.lr_scheduler import ReduceLROnPlateau\n",
    "from tqdm import tqdm\n",
    "import random\n",
    "import matplotlib.pyplot as plt\n",
    "from torchvision.ops import box_iou\n",
    "\n",
    "# ✅ Dataset 类\n",
    "class YoloToFRCNNDataset(Dataset):\n",
    "    def __init__(self, image_dir, label_dir, train=True):\n",
    "        self.image_dir = image_dir\n",
    "        self.label_dir = label_dir\n",
    "        self.image_files = sorted(os.listdir(image_dir))\n",
    "        self.train = train\n",
    "\n",
    "        # 类别映射：YOLO原始ID => 连续索引\n",
    "        self.class_mapping = {\n",
    "            0: 1,      # person\n",
    "            60: 2,     # table\n",
    "            56: 3,     # chair\n",
    "            28: 4      # suitcase\n",
    "        }\n",
    "\n",
    "    def __len__(self):\n",
    "        return len(self.image_files)\n",
    "\n",
    "    def __getitem__(self, idx):\n",
    "        img_name = self.image_files[idx]\n",
    "        img_path = os.path.join(self.image_dir, img_name)\n",
    "        label_path = os.path.join(self.label_dir, img_name.replace('.jpg', '.txt'))\n",
    "\n",
    "        image = Image.open(img_path).convert(\"RGB\")\n",
    "        w, h = image.size\n",
    "        boxes = []\n",
    "        labels = []\n",
    "\n",
    "        if os.path.exists(label_path):\n",
    "            with open(label_path, 'r') as f:\n",
    "                for line in f:\n",
    "                    parts = line.strip().split()\n",
    "                    if len(parts) < 5:\n",
    "                        continue\n",
    "                    cls_id, cx, cy, bw, bh = parts\n",
    "                    cls_id = int(float(cls_id))  # 转为整数\n",
    "                    if cls_id not in self.class_mapping:\n",
    "                        continue  # 跳过未定义类别\n",
    "                    label = self.class_mapping[cls_id]\n",
    "\n",
    "                    # 反归一化\n",
    "                    cx, cy, bw, bh = float(cx) * w, float(cy) * h, float(bw) * w, float(bh) * h\n",
    "                    x1 = cx - bw / 2\n",
    "                    y1 = cy - bh / 2\n",
    "                    x2 = cx + bw / 2\n",
    "                    y2 = cy + bh / 2\n",
    "\n",
    "                    boxes.append([x1, y1, x2, y2])\n",
    "                    labels.append(label)\n",
    "\n",
    "        # 数据增强\n",
    "        if self.train:\n",
    "            if random.random() < 0.5:\n",
    "                image = F.hflip(image)\n",
    "                for i in range(len(boxes)):\n",
    "                    x1, y1, x2, y2 = boxes[i]\n",
    "                    boxes[i] = [w - x2, y1, w - x1, y2]\n",
    "            image = F.adjust_brightness(image, 1 + (random.random() - 0.5) * 0.4)\n",
    "            image = F.adjust_contrast(image, 1 + (random.random() - 0.5) * 0.4)\n",
    "\n",
    "        image_tensor = T.ToTensor()(image)\n",
    "\n",
    "        target = {\n",
    "            \"boxes\": torch.tensor(boxes, dtype=torch.float32),\n",
    "            \"labels\": torch.tensor(labels, dtype=torch.int64),\n",
    "            \"image_id\": torch.tensor([idx])\n",
    "        }\n",
    "\n",
    "        return image_tensor, target\n",
    "\n",
    "\n",
    "def collate_fn(batch):\n",
    "    return tuple(zip(*batch))\n",
    "\n",
    "# ✅ 模型构建（ResNet101 + FPN）\n",
    "def get_model(num_classes):\n",
    "    backbone = resnet_fpn_backbone('resnet101', pretrained=True)\n",
    "    model = FasterRCNN(backbone, num_classes=num_classes)\n",
    "    return model\n",
    "\n",
    "# ✅ 验证函数（每轮评估）\n",
    "@torch.no_grad()\n",
    "def evaluate_model(model, val_loader, device=\"cuda\", iou_threshold=0.5, score_threshold=0.4):\n",
    "    model.eval()\n",
    "    model.to(device)\n",
    "\n",
    "    total_preds = 0\n",
    "    total_gts = 0\n",
    "    correct = 0\n",
    "    correct_total_images = 0\n",
    "\n",
    "    for images, targets in val_loader:\n",
    "        images = [img.to(device) for img in images]\n",
    "        targets = [{k: v.to(device) for k, v in t.items()} for t in targets]\n",
    "        outputs = model(images)\n",
    "\n",
    "        for pred, target in zip(outputs, targets):\n",
    "            pred_boxes = pred['boxes']\n",
    "            pred_scores = pred['scores']\n",
    "            pred_labels = pred['labels']\n",
    "\n",
    "            gt_boxes = target['boxes']\n",
    "            gt_labels = target['labels']\n",
    "\n",
    "            keep = pred_scores > score_threshold\n",
    "            pred_boxes = pred_boxes[keep]\n",
    "            pred_labels = pred_labels[keep]\n",
    "\n",
    "            total_preds += len(pred_boxes)\n",
    "            total_gts += len(gt_boxes)\n",
    "\n",
    "            matched = 0\n",
    "            if len(pred_boxes) > 0 and len(gt_boxes) > 0:\n",
    "                ious = box_iou(pred_boxes, gt_boxes)\n",
    "                for i in range(len(pred_boxes)):\n",
    "                    max_iou, gt_idx = ious[i].max(0)\n",
    "                    if max_iou > iou_threshold and pred_labels[i] == gt_labels[gt_idx]:\n",
    "                        correct += 1\n",
    "                        matched += 1\n",
    "                        ious[:, gt_idx] = 0\n",
    "            if matched > 0:\n",
    "                correct_total_images += 1\n",
    "\n",
    "    precision = correct / total_preds if total_preds > 0 else 0\n",
    "    recall = correct / total_gts if total_gts > 0 else 0\n",
    "    accuracy = correct_total_images / len(val_loader.dataset)\n",
    "\n",
    "    return precision, recall, accuracy\n",
    "\n",
    "# ✅ 数据 & 模型准备\n",
    "device = torch.device('cuda' if torch.cuda.is_available() else 'cpu')\n",
    "train_dataset = YoloToFRCNNDataset('./dataset/train/images', './dataset/train/labels', train=True)\n",
    "val_dataset = YoloToFRCNNDataset('./dataset/val/images', './dataset/val/labels', train=False)\n",
    "train_loader = DataLoader(train_dataset, batch_size=4, shuffle=True, collate_fn=collate_fn)\n",
    "val_loader = DataLoader(val_dataset, batch_size=2, shuffle=False, collate_fn=collate_fn)\n",
    "model = get_model(num_classes=5)\n",
    "model.to(device)\n",
    "\n",
    "# ✅ 加载已保存的权重和 best_loss\n",
    "best_loss = float('inf')\n",
    "# if os.path.exists(\"best_model_resnet101.pth\"):\n",
    "#     model.load_state_dict(torch.load(\"best_model_resnet101.pth\", map_location=device))\n",
    "#     print(\"✅ Loaded best_model_resnet101.pth\")\n",
    "\n",
    "if os.path.exists(\"best_loss.txt\"):\n",
    "    with open(\"best_loss.txt\", \"r\") as f:\n",
    "        best_loss = float(f.read())\n",
    "    print(f\"📉 Loaded previous best loss: {best_loss:.4f}\")\n",
    "\n",
    "params = [p for p in model.parameters() if p.requires_grad]\n",
    "#optimizer = torch.optim.AdamW(params, lr=1e-4, weight_decay=1e-4)\n",
    "optimizer = torch.optim.SGD(params, lr=1e-3, momentum=0.9, weight_decay=5e-4)\n",
    "\n",
    "lr_scheduler = ReduceLROnPlateau(optimizer, mode='min', factor=0.5, patience=2, verbose=True)\n",
    "\n",
    "# ✅ 训练 + 评估主循环\n",
    "num_epochs = 50\n",
    "loss_list = []\n",
    "precision_list = []\n",
    "recall_list = []\n",
    "acc_list = []\n",
    "\n",
    "for epoch in range(num_epochs):\n",
    "    model.train()\n",
    "    total_loss = 0\n",
    "    pbar = tqdm(train_loader, desc=f\"📦 Epoch {epoch+1}/{num_epochs}\")\n",
    "\n",
    "    for images, targets in pbar:\n",
    "        images = list(img.to(device) for img in images)\n",
    "        targets = [{k: v.to(device) for k, v in t.items()} for t in targets]\n",
    "\n",
    "        loss_dict = model(images, targets)\n",
    "        losses = sum(loss for loss in loss_dict.values())\n",
    "\n",
    "        optimizer.zero_grad()\n",
    "        losses.backward()\n",
    "        optimizer.step()\n",
    "        total_loss += losses.item()\n",
    "        pbar.set_postfix({\"Loss\": f\"{losses.item():.4f}\"})\n",
    "\n",
    "    avg_loss = total_loss / len(train_loader)\n",
    "    loss_list.append(avg_loss)\n",
    "    lr_scheduler.step(avg_loss)\n",
    "\n",
    "    # ✅ 每轮评估\n",
    "    precision, recall, acc = evaluate_model(model, val_loader, device=device, score_threshold=0.4)\n",
    "    precision_list.append(precision)\n",
    "    recall_list.append(recall)\n",
    "    acc_list.append(acc)\n",
    "\n",
    "    print(f\"\\n📊 Epoch {epoch+1}: Avg Loss={avg_loss:.4f} | 🎯 Precision={precision:.4f} | 🔁 Recall={recall:.4f} | ✅ Accuracy={acc:.4f}\\n\")\n",
    "\n",
    "    if avg_loss < best_loss:\n",
    "        best_loss = avg_loss\n",
    "        torch.save(model.state_dict(), \"best_model_resnet101.pth\")\n",
    "        with open(\"best_loss.txt\", \"w\") as f:\n",
    "            f.write(str(best_loss))\n",
    "        print(\"✅ Saved best model.\")\n",
    "\n",
    "# ✅ 训练完成，绘制多图对比\n",
    "plt.figure(figsize=(12, 4))\n",
    "\n",
    "plt.subplot(1, 3, 1)\n",
    "plt.plot(loss_list, marker='o')\n",
    "plt.title(\"Loss\")\n",
    "plt.grid(True)\n",
    "\n",
    "plt.subplot(1, 3, 2)\n",
    "plt.plot(precision_list, marker='o', label='Precision')\n",
    "plt.plot(recall_list, marker='s', label='Recall')\n",
    "plt.title(\"Precision / Recall\")\n",
    "plt.legend()\n",
    "plt.grid(True)\n",
    "\n",
    "plt.subplot(1, 3, 3)\n",
    "plt.plot(acc_list, marker='^', color='green')\n",
    "plt.title(\"Accuracy (image level)\")\n",
    "plt.grid(True)\n",
    "\n",
    "plt.tight_layout()\n",
    "plt.show()\n"
   ]
  },
  {
   "cell_type": "code",
   "execution_count": null,
   "id": "3def3c3b-08b6-4def-ac3e-5be7abf19c0e",
   "metadata": {},
   "outputs": [],
   "source": []
  },
  {
   "cell_type": "code",
   "execution_count": null,
   "id": "fa788ad3-a657-4a12-a9ab-186a850434a7",
   "metadata": {},
   "outputs": [],
   "source": []
  }
 ],
 "metadata": {
  "kernelspec": {
   "display_name": "Python (yolo)",
   "language": "python",
   "name": "yolo"
  },
  "language_info": {
   "codemirror_mode": {
    "name": "ipython",
    "version": 3
   },
   "file_extension": ".py",
   "mimetype": "text/x-python",
   "name": "python",
   "nbconvert_exporter": "python",
   "pygments_lexer": "ipython3",
   "version": "3.10.16"
  }
 },
 "nbformat": 4,
 "nbformat_minor": 5
}
